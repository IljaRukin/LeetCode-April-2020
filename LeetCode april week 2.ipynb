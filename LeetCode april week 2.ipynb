{
 "cells": [
  {
   "cell_type": "code",
   "execution_count": 146,
   "metadata": {},
   "outputs": [
    {
     "name": "stdout",
     "output_type": "stream",
     "text": [
      "Once deleted, variables cannot be recovered. Proceed (y/[n])? y\n"
     ]
    }
   ],
   "source": [
    "%reset"
   ]
  },
  {
   "cell_type": "code",
   "execution_count": 5,
   "metadata": {},
   "outputs": [],
   "source": [
    "from typing import List\n",
    "import numpy as np"
   ]
  },
  {
   "cell_type": "code",
   "execution_count": 6,
   "metadata": {},
   "outputs": [
    {
     "name": "stdout",
     "output_type": "stream",
     "text": [
      "3 <__main__.ListNode object at 0x00000235E5773B88>\n",
      "4 <__main__.ListNode object at 0x00000235E5773C08>\n",
      "5 <__main__.ListNode object at 0x00000235E5773BC8>\n",
      "6 <__main__.ListNode object at 0x00000235E5773C88>\n"
     ]
    }
   ],
   "source": [
    "###Listnode example\n",
    "\n",
    "class ListNode:\n",
    "    def __init__(self,val):\n",
    "        self.val = val   #value\n",
    "        self.next = None #adress of next node\n",
    "\n",
    "array = [3,4,5,6]\n",
    "head = ListNode(array.pop(0))\n",
    "t = head\n",
    "#while t.next: #skip nonempty elements\n",
    "#    t=t.next\n",
    "for n in array: #add array elements\n",
    "    t.next = ListNode(n)\n",
    "    t=t.next\n",
    "\n",
    "print(head.val, head)\n",
    "print(head.next.val, head.next)\n",
    "print(head.next.next.val, head.next.next)\n",
    "print(head.next.next.next.val, head.next.next.next)"
   ]
  },
  {
   "cell_type": "code",
   "execution_count": 7,
   "metadata": {},
   "outputs": [
    {
     "name": "stdout",
     "output_type": "stream",
     "text": [
      "4 <__main__.ListNode object at 0x00000235E531B7C8>\n",
      "3 <__main__.ListNode object at 0x00000235E579C9C8>\n",
      "6 <__main__.ListNode object at 0x00000235E579CA48>\n"
     ]
    }
   ],
   "source": [
    "#find middle node in Listnode\n",
    "\n",
    "class Solution:\n",
    "    def middleNode(self, head: ListNode) -> ListNode:\n",
    "        numbers = list()\n",
    "        point = head\n",
    "        numbers.append(point)\n",
    "        l = 0\n",
    "        while point:\n",
    "            point = point.next\n",
    "            numbers.append(point)\n",
    "            l += 1\n",
    "        return numbers[int(np.ceil((l-1)/2))]\n",
    "\n",
    "#create Listnode\n",
    "class ListNode:\n",
    "    def __init__(self,val):\n",
    "        self.val = val   #value\n",
    "        self.next = None #adress of next node\n",
    "\n",
    "#array = [1,2,3,4,5,6,7] #answer = 4\n",
    "array = [1,5,3,4,3,6] #answer = 4\n",
    "head = ListNode(array.pop(0))\n",
    "t = head\n",
    "#while t.next: #skip nonempty elements\n",
    "#    t=t.next\n",
    "for n in array: #add array elements\n",
    "    t.next = ListNode(n)\n",
    "    t=t.next\n",
    "\n",
    "s = Solution()\n",
    "result = s.middleNode(head)\n",
    "\n",
    "print( result.val , result )\n",
    "print( result.next.val , result.next )\n",
    "print( result.next.next.val , result.next.next )"
   ]
  },
  {
   "cell_type": "code",
   "execution_count": 8,
   "metadata": {},
   "outputs": [
    {
     "data": {
      "text/plain": [
       "True"
      ]
     },
     "execution_count": 8,
     "metadata": {},
     "output_type": "execute_result"
    }
   ],
   "source": [
    "#test if strings S and T are equal. # is a backspace character\n",
    "class Solution:\n",
    "    def backspaceCompare(self, S: str, T: str) -> bool:\n",
    "        idx = S.find('#')\n",
    "        while idx !=-1:\n",
    "            if idx == 0:\n",
    "                S = S[1:]\n",
    "            else:\n",
    "                S = S[:idx-1] + S[idx+1:]\n",
    "            idx = S.find('#')\n",
    "        idx = T.find('#')\n",
    "        while idx !=-1:\n",
    "            if idx == 0:\n",
    "                T = T[1:]\n",
    "            else:\n",
    "                T = T[:idx-1] + T[idx+1:]\n",
    "            idx = T.find('#')\n",
    "        return S == T\n",
    "\n",
    "S = \"ab#c\"; T = \"ad#c\"\n",
    "#S=\"a##c\";T=\"#a#c\"\n",
    "\n",
    "s = Solution()\n",
    "s.backspaceCompare(S,T)"
   ]
  },
  {
   "cell_type": "code",
   "execution_count": 9,
   "metadata": {},
   "outputs": [
    {
     "data": {
      "text/plain": [
       "(-3, -3, 0, -2)"
      ]
     },
     "execution_count": 9,
     "metadata": {},
     "output_type": "execute_result"
    }
   ],
   "source": [
    "#design stack\n",
    "class MinStack:\n",
    "\n",
    "    def __init__(self):\n",
    "        self.mystack = list()\n",
    "\n",
    "    #add element on \n",
    "    def push(self, x: int) -> None:\n",
    "        self.mystack.append(x)\n",
    "\n",
    "    def pop(self) -> None:\n",
    "        return self.mystack.pop(-1)\n",
    "\n",
    "    def top(self) -> int:\n",
    "        return self.mystack[-1]\n",
    "\n",
    "    def getMin(self) -> int:\n",
    "        return min(self.mystack)\n",
    "\n",
    "minStack = MinStack();\n",
    "minStack.push(-2)\n",
    "minStack.push(0)\n",
    "minStack.push(-3)\n",
    "minStack.getMin() , minStack.pop() , minStack.top() , minStack.getMin()"
   ]
  },
  {
   "cell_type": "code",
   "execution_count": 4,
   "metadata": {},
   "outputs": [
    {
     "data": {
      "text/plain": [
       "3"
      ]
     },
     "execution_count": 4,
     "metadata": {},
     "output_type": "execute_result"
    }
   ],
   "source": [
    "#find longest contiuous path in a binary tree (so called diameter)\n",
    "\n",
    "# Definition for a binary tree node.\n",
    "class TreeNode:\n",
    "    def __init__(self, x):\n",
    "        self.val = x\n",
    "        self.left = None\n",
    "        self.right = None\n",
    "\n",
    "#example:\n",
    "#          1\n",
    "#         / \\\n",
    "#        2   3\n",
    "#       / \\     \n",
    "#      4   5    \n",
    "\n",
    "root = TreeNode(1)\n",
    "r = root\n",
    "r.right = TreeNode(3)\n",
    "r.left = TreeNode(2)\n",
    "r = r.left\n",
    "r.right = TreeNode(5)\n",
    "r.left = TreeNode(4)\n",
    "root.left.right.val\n",
    "\n",
    "class Solution:\n",
    "    def __init__(self):\n",
    "        self.ans=0\n",
    "    \n",
    "    def height(self, root: TreeNode) -> int:\n",
    "        if (root == None):\n",
    "            return 0\n",
    "        left_height = self.height(root.left)\n",
    "        right_height = self.height(root.right)\n",
    "        self.ans = max(self.ans, 1 + left_height + right_height)\n",
    "        return 1 + max(left_height, right_height)\n",
    "    \n",
    "    def diameterOfBinaryTree(self, root: TreeNode) -> int:\n",
    "        if root is None:\n",
    "            return 0\n",
    "        \n",
    "        self.ans = 0\n",
    "        tree_height = self.height(root)\n",
    "        return self.ans-1\n",
    "\n",
    "s = Solution()\n",
    "s.diameterOfBinaryTree(root)"
   ]
  },
  {
   "cell_type": "code",
   "execution_count": 12,
   "metadata": {},
   "outputs": [
    {
     "data": {
      "text/plain": [
       "1"
      ]
     },
     "execution_count": 12,
     "metadata": {},
     "output_type": "execute_result"
    }
   ],
   "source": [
    "#smash heaviest stones, so the difference of mass is left. smash untill restmass is left\n",
    "\n",
    "class Solution:\n",
    "    def lastStoneWeight(self, stones: List[int]) -> int:\n",
    "        while len(stones)>1:\n",
    "            stones.sort(reverse=True)\n",
    "            smash = stones[0] - stones[1]\n",
    "            if smash > 0:\n",
    "                stones.append(smash)\n",
    "            stones = stones[2:]\n",
    "        if len(stones)==0:\n",
    "            return 0\n",
    "        else:\n",
    "            return stones[0]\n",
    "\n",
    "stones = [2,7,4,1,8,1]\n",
    "s = Solution()\n",
    "s.lastStoneWeight(stones)"
   ]
  },
  {
   "cell_type": "code",
   "execution_count": 70,
   "metadata": {},
   "outputs": [
    {
     "data": {
      "text/plain": [
       "4"
      ]
     },
     "execution_count": 70,
     "metadata": {},
     "output_type": "execute_result"
    }
   ],
   "source": [
    "#find maximum length of subarray with equal number of 0 and 1\n",
    "\n",
    "class Solution:\n",
    "    def findMaxLength_slowest(self, nums: List[int]) -> int:\n",
    "        length = len(nums)\n",
    "        if length<2:\n",
    "            return 0\n",
    "        for l in range(length//2*2,1,-2):\n",
    "            for s in range(0,length-l+1,1):\n",
    "                cut = nums[s:s+l]\n",
    "                if cut.count(0) == cut.count(1):\n",
    "                    return l\n",
    "        return 0\n",
    "    \n",
    "    def findMaxLength_slow(self, nums: List[int]) -> int:\n",
    "        length = len(nums)\n",
    "        round_length = length//2*2\n",
    "        if length<2:\n",
    "            return 0\n",
    "        for l in range(round_length,1,-2):\n",
    "            one = sum(nums[0:l])\n",
    "            zero = l-one\n",
    "            if zero == one:\n",
    "                return l\n",
    "            \n",
    "            for s in range(1,length-l+1,1):\n",
    "                change = nums[s+l-1] - nums[s-1]\n",
    "                one += change\n",
    "                zero -= change\n",
    "            \n",
    "                if zero == one:\n",
    "                    return l\n",
    "        return 0\n",
    "    \n",
    "    def findMaxLength(self, nums: List[int]) -> int:\n",
    "        length = len(nums)\n",
    "        if length<2:\n",
    "            return 0\n",
    "        \n",
    "        accumulate = {0:-1} #value:idx\n",
    "        prev = 0\n",
    "        max_l = 0\n",
    "        \n",
    "        for i in range(length):\n",
    "            #replace 0 with -1\n",
    "            if nums[i]==0:\n",
    "                nums[i]=-1\n",
    "            \n",
    "            #sum of previous elements\n",
    "            summ = prev + nums[i]\n",
    "            \n",
    "            if summ in accumulate:\n",
    "                max_l = max(max_l, i-accumulate[summ] )\n",
    "            else:\n",
    "                accumulate.update( {summ : i} )\n",
    "            \n",
    "            prev = summ\n",
    "        \n",
    "        return max_l\n",
    "\n",
    "nums = [0,1,0,1,1]\n",
    "#nums = [0,1]\n",
    "\n",
    "s = Solution()\n",
    "#s.findMaxLength_slowest(nums)\n",
    "#s.findMaxLength_slow(nums)\n",
    "s.findMaxLength(nums)"
   ]
  },
  {
   "cell_type": "raw",
   "metadata": {},
   "source": [
    "###C++\n",
    "#include <iostream>\n",
    "#include <vector>\n",
    "#include <numeric>\n",
    "#include <string>\n",
    "#include <functional>\n",
    "\n",
    "class Solution{\n",
    "public:\n",
    "    int findMaxLength(std::vector<int>& nums) {\n",
    "        unsigned long int length = nums.size();\n",
    "        unsigned long int round_length = ((int)length / 2) * 2;\n",
    "        unsigned long int ll = round_length;\n",
    "        unsigned int one; unsigned int zero;\n",
    "        int change;\n",
    "        if (length < 2)\n",
    "        {\n",
    "            return 0;\n",
    "        }\n",
    "        for (unsigned long int ll = round_length; ll > 0; ll -= 2)\n",
    "        {\n",
    "            one = 0;\n",
    "            for (unsigned int p = 0; p < ll; p++)\n",
    "            {\n",
    "                one += nums[p];\n",
    "            }\n",
    "            zero = ll - one;\n",
    "            //std::printf(\"%i 0 %i %i \\n\", ll, zero, one);\n",
    "\n",
    "            if (zero == one)\n",
    "            {\n",
    "                return ll;\n",
    "            }\n",
    "\n",
    "            for (long int s = 1; s < length - ll + 1; s += 1)\n",
    "            {\n",
    "                change = nums[s + ll - 1] - nums[s - 1];\n",
    "                one += change;\n",
    "                zero -= change;\n",
    "                //std::printf(\"%i %i %i %i \\n\", ll, s, zero, one);\n",
    "\n",
    "                if (zero == one)\n",
    "                {\n",
    "                    return ll;\n",
    "                }\n",
    "            }\n",
    "        }\n",
    "        return 0;\n",
    "    }\n",
    "};\n",
    "\n",
    "int main(void)\n",
    "{\n",
    "    int a = 0;\n",
    "    Solution s;\n",
    "    std::vector<int> nums = { 1,1,1,1,1,0,0 };\n",
    "    //std::vector<int> nums = { 0,1 };\n",
    "    std::printf(\"result %i \\n\", s.findMaxLength(nums));\n",
    "}"
   ]
  },
  {
   "cell_type": "code",
   "execution_count": 15,
   "metadata": {},
   "outputs": [
    {
     "data": {
      "text/plain": [
       "'efgabcd'"
      ]
     },
     "execution_count": 15,
     "metadata": {},
     "output_type": "execute_result"
    }
   ],
   "source": [
    "#shit string s by multiple shifts. shift[i] = [ left(0)/right(1) , positions ]\n",
    "\n",
    "class Solution:\n",
    "    def stringShift(self, s: str, shift: List[List[int]]) -> str:\n",
    "        length = len(s)\n",
    "        mv = 0 #right\n",
    "        for move in shift:\n",
    "            if move[0] == 0: #left shift\n",
    "                mv -= move[1]\n",
    "            elif move[0] == 1: #right shift\n",
    "                mv += move[1]\n",
    "        mv = mv % length\n",
    "        return s[length-mv:] + s[:length-mv]\n",
    "\n",
    "string = \"abcdefg\"\n",
    "shift = [[1,1],[1,1],[0,2],[1,3]]\n",
    "\n",
    "s = Solution()\n",
    "s.stringShift(string,shift)"
   ]
  },
  {
   "cell_type": "code",
   "execution_count": null,
   "metadata": {},
   "outputs": [],
   "source": []
  }
 ],
 "metadata": {
  "kernelspec": {
   "display_name": "Python 3",
   "language": "python",
   "name": "python3"
  },
  "language_info": {
   "codemirror_mode": {
    "name": "ipython",
    "version": 3
   },
   "file_extension": ".py",
   "mimetype": "text/x-python",
   "name": "python",
   "nbconvert_exporter": "python",
   "pygments_lexer": "ipython3",
   "version": "3.7.5"
  }
 },
 "nbformat": 4,
 "nbformat_minor": 4
}
