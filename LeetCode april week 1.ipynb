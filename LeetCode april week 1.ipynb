{
 "cells": [
  {
   "cell_type": "code",
   "execution_count": 11,
   "metadata": {},
   "outputs": [
    {
     "name": "stdout",
     "output_type": "stream",
     "text": [
      "Once deleted, variables cannot be recovered. Proceed (y/[n])? y\n"
     ]
    }
   ],
   "source": [
    "%reset"
   ]
  },
  {
   "cell_type": "code",
   "execution_count": 12,
   "metadata": {},
   "outputs": [],
   "source": [
    "from typing import List\n",
    "import numpy as np"
   ]
  },
  {
   "cell_type": "code",
   "execution_count": 13,
   "metadata": {},
   "outputs": [
    {
     "data": {
      "text/plain": [
       "4"
      ]
     },
     "execution_count": 13,
     "metadata": {},
     "output_type": "execute_result"
    }
   ],
   "source": [
    "#find number in list, wich does not appear twice\n",
    "\n",
    "class Solution:\n",
    "    def __init__(self):\n",
    "        return None\n",
    "    \n",
    "    def singleNumber(self, nums: List[int]) -> int:\n",
    "        nums.sort()\n",
    "        length = len(nums)\n",
    "        \n",
    "        if length%2==0:\n",
    "            print('error: list with even element count')\n",
    "            return None\n",
    "        \n",
    "        if length==1:\n",
    "            return nums[0]\n",
    "        else:\n",
    "            for i in range(int((length-1)/2)):\n",
    "                if (nums[2*i] != nums[2*i+1]):\n",
    "                    return nums[2*i]\n",
    "            return nums[2*i+2]\n",
    "\n",
    "nums = [4,1,2,1,2]\n",
    "s = Solution()\n",
    "s.singleNumber(nums)"
   ]
  },
  {
   "cell_type": "code",
   "execution_count": 14,
   "metadata": {},
   "outputs": [
    {
     "data": {
      "text/plain": [
       "True"
      ]
     },
     "execution_count": 14,
     "metadata": {},
     "output_type": "execute_result"
    }
   ],
   "source": [
    "#replace a number by the sum of the digits squared. if the result is 1 after some iterations, than the number is happy\n",
    "\n",
    "class Solution:\n",
    "    def __init__(self):\n",
    "        return None\n",
    "    \n",
    "    def isHappy(self, n: int) -> bool:\n",
    "        for i in range(2<<10):\n",
    "            n = sum(int(k)**2 for k in str(n))\n",
    "            if n==1:\n",
    "                return True\n",
    "        return False\n",
    "\n",
    "n=19\n",
    "s = Solution()\n",
    "s.isHappy(n)"
   ]
  },
  {
   "cell_type": "code",
   "execution_count": 15,
   "metadata": {},
   "outputs": [
    {
     "data": {
      "text/plain": [
       "6"
      ]
     },
     "execution_count": 15,
     "metadata": {},
     "output_type": "execute_result"
    }
   ],
   "source": [
    "#find the subarray with the largest sum. output this sum\n",
    "\n",
    "class Solution:\n",
    "    def __init__(self):\n",
    "        return None\n",
    "    \n",
    "    def maxSubArray(self, nums: List[int]) -> int:\n",
    "        max_sum = nums[0]\n",
    "        accumulator = 0\n",
    "        for k in range(0,len(nums)):\n",
    "            accumulator += nums[k]\n",
    "            if max_sum < accumulator:\n",
    "                max_sum = accumulator\n",
    "            if accumulator < 0:\n",
    "                accumulator = 0\n",
    "        return max_sum\n",
    "\n",
    "nums = [-2,1,-3,4,-1,2,1,-5,4]\n",
    "s = Solution()\n",
    "s.maxSubArray(nums)"
   ]
  },
  {
   "cell_type": "code",
   "execution_count": 16,
   "metadata": {},
   "outputs": [
    {
     "data": {
      "text/plain": [
       "[1, 3, 12, 0, 0]"
      ]
     },
     "execution_count": 16,
     "metadata": {},
     "output_type": "execute_result"
    }
   ],
   "source": [
    "#move all zeros to the left (without creating additional arrays)\n",
    "\n",
    "class Solution:\n",
    "    def __init__(self):\n",
    "        return None\n",
    "    \n",
    "    def moveZeroes(self, nums: List[int]) -> None:\n",
    "        length = len(nums)\n",
    "        e = 0\n",
    "        n_zeros = 0\n",
    "        while e < length-n_zeros-1:\n",
    "            if nums[e] == 0:\n",
    "                n_zeros += 1\n",
    "                nums[e:] = nums[e+1:]+[0]\n",
    "                e -= 1\n",
    "            e += 1\n",
    "        return nums\n",
    "\n",
    "nums = [0,1,0,3,12]\n",
    "s = Solution()\n",
    "s.moveZeroes(nums)"
   ]
  },
  {
   "cell_type": "code",
   "execution_count": 17,
   "metadata": {},
   "outputs": [
    {
     "data": {
      "text/plain": [
       "3"
      ]
     },
     "execution_count": 17,
     "metadata": {},
     "output_type": "execute_result"
    }
   ],
   "source": [
    "#list represent stock prices. find maximum profit\n",
    "\n",
    "class Solution:\n",
    "    def __init__(self):\n",
    "        return None\n",
    "    \n",
    "    def maxProfit(self, prices: List[int]) -> int:\n",
    "        prices = np.array(prices)\n",
    "        win = prices[1:]-prices[:-1]\n",
    "        profit = np.sum(np.multiply(win,win>0))\n",
    "        return int(profit)\n",
    "\n",
    "nums = [7,1,2,4,3,1]\n",
    "s = Solution()\n",
    "s.maxProfit(nums)"
   ]
  },
  {
   "cell_type": "code",
   "execution_count": 18,
   "metadata": {},
   "outputs": [
    {
     "data": {
      "text/plain": [
       "[['bat'], ['eat', 'tea', 'ate'], ['tan', 'nat']]"
      ]
     },
     "execution_count": 18,
     "metadata": {},
     "output_type": "execute_result"
    }
   ],
   "source": [
    "#group Anagrams (words with same characters)\n",
    "\n",
    "class Solution:\n",
    "    def __init__(self):\n",
    "        return None\n",
    "    \n",
    "#naive:\n",
    "    def groupAnagrams_slow(self, strs: List[str]) -> List[List[str]]:\n",
    "        bag = list()\n",
    "        bag.append([strs.pop()])\n",
    "        for word in strs:\n",
    "            added = 0\n",
    "            for c in range(len(bag)):\n",
    "                w = bag[c][0]\n",
    "                if len(w)==len(word):\n",
    "                    #test if number of each char matches, than add word, otherwise break\n",
    "                    for char in w:\n",
    "                        if w.count(char)!=word.count(char):\n",
    "                            break\n",
    "                    else:\n",
    "                        bag[c].append(word)\n",
    "                        added = 1\n",
    "                        break\n",
    "            if added == 0:\n",
    "                bag.append([word])\n",
    "        return bag\n",
    "\n",
    "#fast (with hashes):\n",
    "# string to number: ord('a')=97\n",
    "# number to string: chr(122)='z'\n",
    "\n",
    "    def groupAnagrams(self, strs: List[str]) -> List[List[str]]:\n",
    "        def calc_hash(word):\n",
    "            nhash = [0]*(122-97+1)\n",
    "            for char in word:\n",
    "                nhash[ord(char)-97] += 1\n",
    "            return ''.join([str(x) for x in nhash])\n",
    "\n",
    "        bag = list()\n",
    "        hashes = list()\n",
    "        first = strs.pop()\n",
    "        bag.append([first])\n",
    "        hashes.append(calc_hash(first))\n",
    "\n",
    "        for word in strs:\n",
    "            w_hash = calc_hash(word)\n",
    "            try:\n",
    "                idx = hashes.index(w_hash)\n",
    "                bag[idx].append(word)\n",
    "            except:\n",
    "                bag.append([word])\n",
    "                hashes.append(calc_hash(word))\n",
    "        return bag\n",
    "    \n",
    "\n",
    "strs = [\"eat\", \"tea\", \"tan\", \"ate\", \"nat\", \"bat\"]\n",
    "#s.groupAnagrams_slow(strs)\n",
    "s = Solution()\n",
    "s.groupAnagrams(strs)"
   ]
  },
  {
   "cell_type": "code",
   "execution_count": 19,
   "metadata": {},
   "outputs": [
    {
     "data": {
      "text/plain": [
       "2"
      ]
     },
     "execution_count": 19,
     "metadata": {},
     "output_type": "execute_result"
    }
   ],
   "source": [
    "#count consecutive numbers\n",
    "\n",
    "class Solution:\n",
    "    def __init__(self):\n",
    "        return None\n",
    "    \n",
    "    def countElements(self, arr: List[int]) -> int:\n",
    "        arr.sort()\n",
    "        counts = 0\n",
    "        val_prev = None; val_current = None\n",
    "        c_prev = 0; c_current = 0\n",
    "\n",
    "        val_current = arr[0]\n",
    "        for element in arr:\n",
    "            if element==val_current:\n",
    "                c_current += 1\n",
    "            else:\n",
    "                break\n",
    "        arr = arr[c_current:]\n",
    "\n",
    "        c_prev = c_current\n",
    "        val_prev = val_current\n",
    "\n",
    "        c_current = 0\n",
    "\n",
    "        val_current = arr[0]\n",
    "        for element in arr:\n",
    "            if element==val_current:\n",
    "                c_current += 1\n",
    "            else:\n",
    "                break\n",
    "        arr = arr[c_current:]\n",
    "\n",
    "        if val_prev+1 == val_current:\n",
    "            #counts += min(c_prev,c_current)\n",
    "            counts += c_prev\n",
    "\n",
    "\n",
    "        while len(arr)>0:\n",
    "\n",
    "            val_prev = val_current\n",
    "            val_current = arr[0]\n",
    "            if val_prev+1 == val_current:\n",
    "                c_prev = c_current\n",
    "            else:\n",
    "                c_prev = 0\n",
    "            c_current = 0\n",
    "\n",
    "            for element in arr:\n",
    "                if element==val_current:\n",
    "                    c_current += 1\n",
    "                else:\n",
    "                    break\n",
    "            arr = arr[c_current:]\n",
    "\n",
    "            if val_prev+1 == val_current:\n",
    "                #counts += min(c_prev,c_current)\n",
    "                counts += c_prev\n",
    "\n",
    "        return counts\n",
    "\n",
    "arr = [1,1,3,3,5,5,7,7,8]\n",
    "s = Solution()\n",
    "s.countElements(arr)"
   ]
  },
  {
   "cell_type": "code",
   "execution_count": null,
   "metadata": {},
   "outputs": [],
   "source": []
  }
 ],
 "metadata": {
  "kernelspec": {
   "display_name": "Python 3",
   "language": "python",
   "name": "python3"
  },
  "language_info": {
   "codemirror_mode": {
    "name": "ipython",
    "version": 3
   },
   "file_extension": ".py",
   "mimetype": "text/x-python",
   "name": "python",
   "nbconvert_exporter": "python",
   "pygments_lexer": "ipython3",
   "version": "3.7.5"
  }
 },
 "nbformat": 4,
 "nbformat_minor": 4
}
