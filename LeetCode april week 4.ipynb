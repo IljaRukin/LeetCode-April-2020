{
 "cells": [
  {
   "cell_type": "code",
   "execution_count": 2,
   "metadata": {},
   "outputs": [
    {
     "name": "stdout",
     "output_type": "stream",
     "text": [
      "Once deleted, variables cannot be recovered. Proceed (y/[n])? y\n"
     ]
    }
   ],
   "source": [
    "%reset"
   ]
  },
  {
   "cell_type": "code",
   "execution_count": 13,
   "metadata": {},
   "outputs": [],
   "source": [
    "from typing import List\n",
    "import numpy as np"
   ]
  },
  {
   "cell_type": "code",
   "execution_count": 50,
   "metadata": {},
   "outputs": [
    {
     "data": {
      "text/plain": [
       "1"
      ]
     },
     "execution_count": 50,
     "metadata": {},
     "output_type": "execute_result"
    }
   ],
   "source": [
    "#return number of possible subarrays with sum equal to k\n",
    "\n",
    "class Solution:\n",
    "    def subarraySum_slowest(self, nums: List[int], k: int) -> int:\n",
    "        lenght = len(nums)\n",
    "        #print('array lenght: ',lenght)\n",
    "        if lenght==0:\n",
    "            return 0\n",
    "        elif lenght==1:\n",
    "            if nums[0]==k:\n",
    "                return 1\n",
    "            else:\n",
    "                return 0\n",
    "        \n",
    "        matches = 0\n",
    "        for l in range(lenght,0,-1):\n",
    "            for s in range(0,lenght-l+1,1):\n",
    "                #print('pos: ',s,' lenght: ',l,' sum: ',sum( nums[s:s+l] ))\n",
    "                if sum( nums[s:s+l] )==k:\n",
    "                    matches += 1\n",
    "        \n",
    "        return matches\n",
    "    \n",
    "    def subarraySum_slow(self, nums: List[int], k: int) -> int:\n",
    "        lenght = len(nums)\n",
    "        #print('array lenght: ',lenght)\n",
    "        if lenght==0:\n",
    "            return 0\n",
    "        elif lenght==1:\n",
    "            if nums[0]==k:\n",
    "                return 1\n",
    "            else:\n",
    "                return 0\n",
    "        \n",
    "        matches = 0\n",
    "        \n",
    "        accumulator = [0]*(lenght+1)\n",
    "        for p in range(0,lenght):\n",
    "            accumulator[p+1] = accumulator[p]+nums[p]\n",
    "        \n",
    "        #print('accumulator: ',accumulator)\n",
    "        \n",
    "        for l in range(lenght,0,-1):\n",
    "            for s in range(0,lenght-l+1,1):\n",
    "                #print('pos: ',s,' lenght: ',l,' sum: ',accumulator[s+l]-accumulator[s])\n",
    "                if (accumulator[s+l]-accumulator[s])==k:\n",
    "                    matches += 1\n",
    "        \n",
    "        return matches\n",
    "    \n",
    "    def subarraySum(self, nums: List[int], k: int) -> int:\n",
    "        lenght = len(nums)\n",
    "        if lenght==0:\n",
    "            return 0\n",
    "        elif lenght==1:\n",
    "            if nums[0]==k:\n",
    "                return 1\n",
    "            else:\n",
    "                return 0\n",
    "        \n",
    "        matches = 0\n",
    "        \n",
    "        accumulator = [0]*(lenght+1)\n",
    "        prev = 0\n",
    "        for p in range(0,lenght):\n",
    "            prev += nums[p]\n",
    "            accumulator[p+1] = prev\n",
    "        \n",
    "        for e in range(len(accumulator)):\n",
    "            e = accumulator.pop()\n",
    "            matches += accumulator.count((e-k))\n",
    "        \n",
    "        return matches\n",
    "\n",
    "#nums = [1,2,3,4]; k = 3\n",
    "#nums = [1,1,1]; k = 2\n",
    "nums = [-92,-63,75,-86,-58,22,31,-16,-66,-67,420]; k=100\n",
    "s = Solution()\n",
    "s.subarraySum(nums,k)"
   ]
  },
  {
   "cell_type": "code",
   "execution_count": 135,
   "metadata": {},
   "outputs": [
    {
     "data": {
      "text/plain": [
       "4"
      ]
     },
     "execution_count": 135,
     "metadata": {},
     "output_type": "execute_result"
    }
   ],
   "source": [
    "#bitwise and of numbers in range [n,m] with 0 <= m <= n <= 2147483647\n",
    "\n",
    "class Solution:\n",
    "\n",
    "    def rangeBitwiseAnd_slow(self, m: int, n: int) -> int:\n",
    "        result = m\n",
    "        for num in range(m+1,n+1,1):\n",
    "            print(result)\n",
    "            result &= num\n",
    "        return result\n",
    "    \n",
    "    def highestBit(self,n):\n",
    "        pos = 0\n",
    "        while n>0:\n",
    "            n = n >> 1\n",
    "            pos+=1\n",
    "        return pos\n",
    "    \n",
    "    def rangeBitwiseAnd(self, m: int, n: int) -> int:\n",
    "        result = m & n\n",
    "        \n",
    "        difference = n-m\n",
    "        if difference==0:\n",
    "            return result\n",
    "        pos = self.highestBit(difference)\n",
    "        \n",
    "        result = (result >> pos) << pos\n",
    "        \n",
    "        return result\n",
    "\n",
    "s = Solution()\n",
    "s.rangeBitwiseAnd(5,7)\n",
    "#s.rangeBitwiseAnd(0b10000, 0b01111)"
   ]
  },
  {
   "cell_type": "code",
   "execution_count": 52,
   "metadata": {},
   "outputs": [
    {
     "name": "stdout",
     "output_type": "stream",
     "text": [
      "2\n",
      "-1\n"
     ]
    }
   ],
   "source": [
    "#implement Least Recently Used cahche (LRU) with put and get commands. Stores keys assosiated values in cache.\n",
    "#If cache capacity is exceeded, overwrites the least recently used entry.\n",
    "\n",
    "class LRUCache:\n",
    "\n",
    "    def __init__(self, capacity: int):\n",
    "        self.capacity = capacity\n",
    "        self.data = dict()\n",
    "        self.access = list()\n",
    "\n",
    "    def get(self, key: int) -> int:\n",
    "        if key in self.data.keys():\n",
    "            #update access\n",
    "            self.access.remove(key)\n",
    "            self.access.append(key)\n",
    "            #return value\n",
    "            return self.data[key]\n",
    "        else:\n",
    "            #element not in data, return -1\n",
    "            return -1\n",
    "\n",
    "    def put(self, key: int, value: int) -> None:\n",
    "        if key in self.data.keys():\n",
    "            #remove last access entry\n",
    "            self.access.remove(key)\n",
    "        elif len(self.data)>=self.capacity:\n",
    "            #remove least recent key\n",
    "            lrk = self.access.pop(0)\n",
    "            del self.data[lrk]\n",
    "        #add data and update access\n",
    "        self.data[key] = value\n",
    "        self.access.append(key)\n",
    "        return None\n",
    "'''\n",
    "cache = LRUCache(2)\n",
    "cache.put(1, 1);\n",
    "cache.put(2, 2);\n",
    "print( cache.get(1) );       # returns 1\n",
    "cache.put(3, 3);             # evicts key 2\n",
    "print( cache.get(2) );       # returns -1 (not found)\n",
    "cache.put(4, 4);             # evicts key 1\n",
    "print( cache.get(1) );       # returns -1 (not found)\n",
    "print( cache.get(3) );       # returns 3\n",
    "print( cache.get(4) );       # returns 4\n",
    "'''\n",
    "cache = LRUCache(2)\n",
    "cache.put(2, 1);\n",
    "cache.put(2, 2);\n",
    "print( cache.get(2) ); #returns 2\n",
    "cache.put(1, 1);\n",
    "cache.put(4, 1);\n",
    "print( cache.get(2) ); #returns -1"
   ]
  },
  {
   "cell_type": "code",
   "execution_count": 4,
   "metadata": {},
   "outputs": [
    {
     "data": {
      "text/plain": [
       "False"
      ]
     },
     "execution_count": 4,
     "metadata": {},
     "output_type": "execute_result"
    }
   ],
   "source": [
    "#in an array starting with element 0 the value of an element is equal to the maximal number of steps to the right.\n",
    "#find out if the right (last) element can be reached.\n",
    "\n",
    "class Solution:\n",
    "    def canJump(self, nums: List[int]) -> bool:\n",
    "        length = len(nums)\n",
    "        if length < 2:\n",
    "            return True\n",
    "        final = 0\n",
    "        for idx in range(length):\n",
    "            if final<idx:\n",
    "                return False\n",
    "            else:\n",
    "                nexxt = idx + nums[idx]\n",
    "                if nexxt > final:\n",
    "                    final = nexxt\n",
    "        return True\n",
    "\n",
    "s = Solution()\n",
    "nums = [3,2,1,0,4]\n",
    "s.canJump(nums)"
   ]
  },
  {
   "cell_type": "code",
   "execution_count": 91,
   "metadata": {},
   "outputs": [
    {
     "data": {
      "text/plain": [
       "5"
      ]
     },
     "execution_count": 91,
     "metadata": {},
     "output_type": "execute_result"
    }
   ],
   "source": [
    "#find the size of the longest common sequence between two arrays.\n",
    "#elements can be deleted, but their order has to remain the same\n",
    "\n",
    "class Solution:\n",
    "    def longestCommonSubsequence(self, text1: str, text2: str) -> int:\n",
    "        length1 = len(text1)\n",
    "        length2 = len(text2)\n",
    "        if (length1==0) or (length2==0):\n",
    "            return 0\n",
    "        if length2 > length1:\n",
    "            temp = text1\n",
    "            text1 = text2\n",
    "            text2 = temp\n",
    "            del temp\n",
    "            length1 = len(text1)\n",
    "            length2 = len(text2)\n",
    "        accumulator = {-1:0}\n",
    "        lastPos = -1\n",
    "        for p in range(length2):\n",
    "            v=text2[p]\n",
    "            #print('value',v)\n",
    "            \n",
    "            #find all occurences\n",
    "            idx = []\n",
    "            offset = -1\n",
    "            while True:\n",
    "                try:\n",
    "                    offset = text1.index(v, offset+1)\n",
    "                except ValueError:\n",
    "                    break\n",
    "                    #return result\n",
    "                idx.append(offset)\n",
    "            \n",
    "            #print('occurences',idx)\n",
    "            for ind in reversed(idx): #reversed, to avoid counting same value multiple times\n",
    "                max_occurence = 0 #for keys below v\n",
    "                for k in accumulator.keys():\n",
    "                    if k<ind:\n",
    "                        occurence = accumulator[k]\n",
    "                        if occurence>max_occurence:\n",
    "                            max_occurence=occurence\n",
    "                accumulator[ind] = max_occurence+1\n",
    "            #print(accumulator)\n",
    "        return max(accumulator.values())\n",
    "\n",
    "s = Solution()\n",
    "#text1 = \"abcde\"; text2 = \"ace\" #3\n",
    "#text1 = \"abc\"; text2 = \"def\" #0\n",
    "#text1 =\"ezupkr\"; text2 = \"ubmrapg\" #2\n",
    "#text1 =\"abcdefg\"; text2 = \"efabcf\" #4\n",
    "#text1 =\"ylqpejqbalahwr\"; text2 = \"yrkzavgdmdgtqpg\" #3\n",
    "#text1 =\"bsbininm\"; text2 =\"jmjkbkjkv\" #1\n",
    "text1 =\"hofubmnylkra\"; text2 =\"pqhgxgdofcvmr\" #5\n",
    "s.longestCommonSubsequence(text1,text2)"
   ]
  },
  {
   "cell_type": "code",
   "execution_count": 65,
   "metadata": {},
   "outputs": [
    {
     "data": {
      "text/plain": [
       "4"
      ]
     },
     "execution_count": 65,
     "metadata": {},
     "output_type": "execute_result"
    }
   ],
   "source": [
    "#find the size of the biggest square containing only 1's in a matrix\n",
    "\n",
    "class Solution:\n",
    "    def maximalSquare(self, matrix: List[List[str]]) -> int:\n",
    "        \n",
    "        #safe calculation of size\n",
    "        rows = len(matrix)\n",
    "        if rows==0:\n",
    "            return 0\n",
    "        columns = len(matrix[0])\n",
    "        \n",
    "        #test if 1's present\n",
    "        no1 = True\n",
    "        for p in matrix:\n",
    "            for q in p:\n",
    "                if q=='1':\n",
    "                    no1 = False\n",
    "        if no1 == True:\n",
    "            return 0\n",
    "        \n",
    "        #build submatricies, entry 1 if 2x2 only consists of 1-elements\n",
    "        square = True\n",
    "        iteration = 0\n",
    "        while square==True:\n",
    "            iteration += 1\n",
    "            square = False\n",
    "            for row in range(rows-iteration):\n",
    "                for column in range(columns-iteration):\n",
    "                    if (matrix[row][column]=='1') & (matrix[row+1][column]=='1') & (matrix[row][column+1]=='1') & (matrix[row+1][column+1]=='1'):\n",
    "                        #matrix[row][column] = '1' #already the case\n",
    "                        if square == False:\n",
    "                            square = True\n",
    "                    else:\n",
    "                        matrix[row][column] = '0'\n",
    "        return iteration**2\n",
    "\n",
    "#matrix = [[\"1\",\"0\",\"1\",\"0\",\"0\"],[\"1\",\"0\",\"1\",\"1\",\"1\"],[\"1\",\"1\",\"1\",\"1\",\"1\"],[\"1\",\"0\",\"0\",\"1\",\"0\"]]\n",
    "matrix = [[\"1\",\"0\",\"0\",\"1\",\"1\",\"0\",\"1\",\"1\"],[\"1\",\"0\",\"0\",\"0\",\"0\",\"1\",\"0\",\"0\"],[\"0\",\"1\",\"1\",\"1\",\"0\",\"0\",\"1\",\"1\"],[\"0\",\"0\",\"0\",\"1\",\"0\",\"0\",\"0\",\"1\"],[\"0\",\"0\",\"0\",\"0\",\"0\",\"1\",\"1\",\"1\"],[\"1\",\"1\",\"1\",\"1\",\"1\",\"1\",\"1\",\"1\"],[\"1\",\"0\",\"0\",\"1\",\"0\",\"1\",\"1\",\"0\"],[\"0\",\"1\",\"1\",\"0\",\"1\",\"1\",\"1\",\"0\"]]\n",
    "s = Solution()\n",
    "s.maximalSquare(matrix)"
   ]
  },
  {
   "cell_type": "code",
   "execution_count": 20,
   "metadata": {},
   "outputs": [
    {
     "name": "stdout",
     "output_type": "stream",
     "text": [
      "2\n",
      "2\n",
      "3\n",
      "-1\n"
     ]
    }
   ],
   "source": [
    "#create class to add and store numbers, wichs also returns the first unique number or -1 when there is none\n",
    "\n",
    "class FirstUnique:\n",
    "\n",
    "    def __init__(self, nums: List[int]):\n",
    "        self.numbers = nums\n",
    "        self.count = dict()\n",
    "        for num in self.numbers:\n",
    "            if num in self.count:\n",
    "                self.count[num]+=1\n",
    "            else:\n",
    "                self.count[num]=1\n",
    "\n",
    "    def showFirstUnique(self) -> int:\n",
    "        for k,v in self.count.items():\n",
    "            if v == 1:\n",
    "                return k\n",
    "        return -1\n",
    "\n",
    "    def add(self, value: int) -> None:\n",
    "        self.numbers.append(value)\n",
    "        if value in self.count:\n",
    "            self.count[value]+=1\n",
    "        else:\n",
    "            self.count[value]=1\n",
    "        return None\n",
    "\n",
    "firstUnique = FirstUnique([2,3,5]);\n",
    "print( firstUnique.showFirstUnique() ); # return 2\n",
    "firstUnique.add(5);            # the queue is now [2,3,5,5]\n",
    "print( firstUnique.showFirstUnique() ); # return 2\n",
    "firstUnique.add(2);            # the queue is now [2,3,5,5,2]\n",
    "print( firstUnique.showFirstUnique() ); # return 3\n",
    "firstUnique.add(3);            # the queue is now [2,3,5,5,2,3]\n",
    "print( firstUnique.showFirstUnique() ); # return -1"
   ]
  },
  {
   "cell_type": "code",
   "execution_count": null,
   "metadata": {},
   "outputs": [],
   "source": []
  }
 ],
 "metadata": {
  "kernelspec": {
   "display_name": "Python 3",
   "language": "python",
   "name": "python3"
  },
  "language_info": {
   "codemirror_mode": {
    "name": "ipython",
    "version": 3
   },
   "file_extension": ".py",
   "mimetype": "text/x-python",
   "name": "python",
   "nbconvert_exporter": "python",
   "pygments_lexer": "ipython3",
   "version": "3.7.5"
  }
 },
 "nbformat": 4,
 "nbformat_minor": 4
}
