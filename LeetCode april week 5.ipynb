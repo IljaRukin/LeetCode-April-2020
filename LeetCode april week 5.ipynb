{
 "cells": [
  {
   "cell_type": "code",
   "execution_count": 2,
   "metadata": {},
   "outputs": [
    {
     "name": "stdout",
     "output_type": "stream",
     "text": [
      "Once deleted, variables cannot be recovered. Proceed (y/[n])? y\n"
     ]
    }
   ],
   "source": [
    "%reset"
   ]
  },
  {
   "cell_type": "code",
   "execution_count": 3,
   "metadata": {},
   "outputs": [],
   "source": [
    "from typing import List\n",
    "import numpy as np"
   ]
  },
  {
   "cell_type": "code",
   "execution_count": 49,
   "metadata": {},
   "outputs": [
    {
     "data": {
      "text/plain": [
       "11"
      ]
     },
     "execution_count": 49,
     "metadata": {},
     "output_type": "execute_result"
    }
   ],
   "source": [
    "#find the path trough a binary tree with the maximal sum trough at least one node, return sum\n",
    "\n",
    "class Solution:\n",
    "    def __init__(self):\n",
    "        self.ans=0\n",
    "    \n",
    "    def recursive_sum(self, root: TreeNode) -> int:\n",
    "        if (root == None):\n",
    "            return 0\n",
    "        left_sum = self.recursive_sum(root.left)\n",
    "        right_sum = self.recursive_sum(root.right)\n",
    "        current_val = root.val\n",
    "        self.ans = max(self.ans, current_val + max(left_sum + right_sum , max(left_sum , right_sum)))\n",
    "        return current_val + max( max(left_sum , right_sum) , 0)\n",
    "    \n",
    "    def maxPathSum(self, root: TreeNode) -> int:\n",
    "        if root is None:\n",
    "            return 0\n",
    "        \n",
    "        self.ans = root.val\n",
    "        \n",
    "        if (root.left is None) & (root.right is None):\n",
    "            return root.val\n",
    "        \n",
    "        self.recursive_sum(root)\n",
    "        return self.ans\n",
    "\n",
    "\n",
    "# Definition for a binary tree node.\n",
    "class TreeNode:\n",
    "    def __init__(self, x):\n",
    "        self.val = x\n",
    "        self.left = None\n",
    "        self.right = None\n",
    "\n",
    "#example:\n",
    "#          1\n",
    "#         / \\\n",
    "#        2   3\n",
    "#       / \\     \n",
    "#      4   5    \n",
    "\n",
    "root = TreeNode(1)\n",
    "r = root\n",
    "r.right = TreeNode(3)\n",
    "r.left = TreeNode(2)\n",
    "r = r.left\n",
    "r.right = TreeNode(5)\n",
    "r.left = TreeNode(4)\n",
    "\n",
    "s = Solution()\n",
    "s.maxPathSum(root)"
   ]
  },
  {
   "cell_type": "code",
   "execution_count": 50,
   "metadata": {},
   "outputs": [
    {
     "data": {
      "text/plain": [
       "True"
      ]
     },
     "execution_count": 50,
     "metadata": {},
     "output_type": "execute_result"
    }
   ],
   "source": [
    "#return if matching sequence arr is present in binary tree\n",
    "#starting at root and terminating without additional left or right nodes\n",
    "\n",
    "class Solution:\n",
    "    def isValidSequence(self, root: TreeNode, arr: List[int]) -> bool:\n",
    "        \n",
    "        #test first element\n",
    "        if root.val != arr.pop(0):\n",
    "            return False\n",
    "        \n",
    "        #traverse tree\n",
    "        nodes = [root]\n",
    "        prev_nodes = nodes\n",
    "        for e in arr:\n",
    "            if len(prev_nodes) == 0:\n",
    "                return False\n",
    "            nodes = []\n",
    "            for node in prev_nodes:\n",
    "                left = node.left\n",
    "                right = node.right\n",
    "                if left != None:\n",
    "                    if left.val == e:\n",
    "                        nodes.append(left)\n",
    "                if right != None:\n",
    "                    if right.val == e:\n",
    "                        nodes.append(right)\n",
    "            prev_nodes = nodes\n",
    "        \n",
    "        #test if nodes are terminating at the same time as arr\n",
    "        for node in nodes:\n",
    "            left = node.left\n",
    "            right = node.right\n",
    "            if (left == None) and (right == None):\n",
    "                return True\n",
    "        return False\n",
    "\n",
    "# Definition for a binary tree node.\n",
    "class TreeNode:\n",
    "    def __init__(self, x):\n",
    "        self.val = x\n",
    "        self.left = None\n",
    "        self.right = None\n",
    "\n",
    "#example:\n",
    "#          1\n",
    "#         / \\\n",
    "#        2   3\n",
    "#       / \\     \n",
    "#      4   5    \n",
    "\n",
    "root = TreeNode(1)\n",
    "r = root\n",
    "r.right = TreeNode(3)\n",
    "r.left = TreeNode(2)\n",
    "r = r.left\n",
    "r.right = TreeNode(5)\n",
    "r.left = TreeNode(4)\n",
    "\n",
    "arr = [1,2,4]\n",
    "            \n",
    "s = Solution()\n",
    "s.isValidSequence(root,arr)"
   ]
  },
  {
   "cell_type": "code",
   "execution_count": null,
   "metadata": {},
   "outputs": [],
   "source": []
  }
 ],
 "metadata": {
  "kernelspec": {
   "display_name": "Python 3",
   "language": "python",
   "name": "python3"
  },
  "language_info": {
   "codemirror_mode": {
    "name": "ipython",
    "version": 3
   },
   "file_extension": ".py",
   "mimetype": "text/x-python",
   "name": "python",
   "nbconvert_exporter": "python",
   "pygments_lexer": "ipython3",
   "version": "3.7.5"
  }
 },
 "nbformat": 4,
 "nbformat_minor": 4
}
